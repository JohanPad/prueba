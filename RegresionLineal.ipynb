{
  "nbformat": 4,
  "nbformat_minor": 0,
  "metadata": {
    "colab": {
      "provenance": []
    },
    "kernelspec": {
      "name": "python3",
      "display_name": "Python 3"
    },
    "language_info": {
      "name": "python"
    }
  },
  "cells": [
    {
      "cell_type": "markdown",
      "source": [
        "# **Actividad 3: Solución de problemas.**\n",
        "\n",
        "Johan Ronaldo Padilla Castañeda -\n",
        "2109556\n",
        "\n",
        "Inteligencia Artificial y Redes Neuronales - N1\n",
        "\n",
        "Grupo: 007\n",
        "\n",
        "---\n",
        "\n",
        "### Objetivo\n",
        "\n",
        "*Entrenar uno de los modelos de aprendizaje supervisado más simple: Regresión Lineal.*\n",
        "\n",
        "---"
      ],
      "metadata": {
        "id": "KA9jC4jcXQCT"
      }
    },
    {
      "cell_type": "markdown",
      "source": [
        "  1. Cargar Librerías"
      ],
      "metadata": {
        "id": "lv3TDcL8Dz1z"
      }
    },
    {
      "cell_type": "code",
      "source": [
        "import matplotlib.pyplot as plt\n",
        "import numpy as np\n",
        "import pandas as pd\n",
        "from google.colab import data_table\n",
        "import sklearn.linear_model\n",
        "from sklearn.model_selection import train_test_split\n",
        "from sklearn.metrics import mean_squared_error"
      ],
      "metadata": {
        "id": "HO8vvapRD5eA"
      },
      "execution_count": null,
      "outputs": []
    },
    {
      "cell_type": "markdown",
      "source": [
        "2. Cargar Datos"
      ],
      "metadata": {
        "id": "Ap-D1SZuJQ0y"
      }
    },
    {
      "cell_type": "code",
      "source": [
        "np.random.seed(0)\n",
        "horas_estudio = np.random.rand(100, 1) * 10\n",
        "calificaciones = 2 * horas_estudio + np.random.randn(100, 1) * 2"
      ],
      "metadata": {
        "id": "aib6HvMFJTvx"
      },
      "execution_count": null,
      "outputs": []
    },
    {
      "cell_type": "markdown",
      "source": [
        "3. Pre-procesamiento de Datos"
      ],
      "metadata": {
        "id": "-rw-D339J0yq"
      }
    },
    {
      "cell_type": "code",
      "source": [
        "train_data, test_data, train_labels, test_label = train_test_split(horas_estudio,\n",
        "                                                                    calificaciones,\n",
        "                                                                    test_size = 0.2,\n",
        "                                                                    random_state = 40)"
      ],
      "metadata": {
        "id": "6z5s2T26J959"
      },
      "execution_count": null,
      "outputs": []
    },
    {
      "cell_type": "code",
      "source": [
        "tabla = {'Horas de estudio': horas_estudio.flatten(),\n",
        "        'Calificaciones': calificaciones.flatten()}\n",
        "\n",
        "df = pd.DataFrame(tabla)"
      ],
      "metadata": {
        "id": "pg4Z5iZgWWIu"
      },
      "execution_count": null,
      "outputs": []
    },
    {
      "cell_type": "code",
      "source": [
        "data_table.DataTable(df, include_index = False, num_rows_per_page = 20)"
      ],
      "metadata": {
        "colab": {
          "base_uri": "https://localhost:8080/",
          "height": 562
        },
        "id": "VvJDX49nY0vp",
        "outputId": "9563472c-f544-4ee8-949f-b73733e342ce"
      },
      "execution_count": null,
      "outputs": [
        {
          "output_type": "execute_result",
          "data": {
            "text/html": [
              "<div>\n",
              "<style scoped>\n",
              "    .dataframe tbody tr th:only-of-type {\n",
              "        vertical-align: middle;\n",
              "    }\n",
              "\n",
              "    .dataframe tbody tr th {\n",
              "        vertical-align: top;\n",
              "    }\n",
              "\n",
              "    .dataframe thead th {\n",
              "        text-align: right;\n",
              "    }\n",
              "</style>\n",
              "<table border=\"1\" class=\"dataframe\">\n",
              "  <thead>\n",
              "    <tr style=\"text-align: right;\">\n",
              "      <th></th>\n",
              "      <th>Horas de estudio</th>\n",
              "      <th>Calificaciones</th>\n",
              "    </tr>\n",
              "  </thead>\n",
              "  <tbody>\n",
              "    <tr>\n",
              "      <th>0</th>\n",
              "      <td>5.488135</td>\n",
              "      <td>8.645970</td>\n",
              "    </tr>\n",
              "    <tr>\n",
              "      <th>1</th>\n",
              "      <td>7.151894</td>\n",
              "      <td>16.105440</td>\n",
              "    </tr>\n",
              "    <tr>\n",
              "      <th>2</th>\n",
              "      <td>6.027634</td>\n",
              "      <td>12.986592</td>\n",
              "    </tr>\n",
              "    <tr>\n",
              "      <th>3</th>\n",
              "      <td>5.448832</td>\n",
              "      <td>7.825176</td>\n",
              "    </tr>\n",
              "    <tr>\n",
              "      <th>4</th>\n",
              "      <td>4.236548</td>\n",
              "      <td>11.449600</td>\n",
              "    </tr>\n",
              "    <tr>\n",
              "      <th>...</th>\n",
              "      <td>...</td>\n",
              "      <td>...</td>\n",
              "    </tr>\n",
              "    <tr>\n",
              "      <th>95</th>\n",
              "      <td>1.831914</td>\n",
              "      <td>5.027016</td>\n",
              "    </tr>\n",
              "    <tr>\n",
              "      <th>96</th>\n",
              "      <td>5.865129</td>\n",
              "      <td>10.123439</td>\n",
              "    </tr>\n",
              "    <tr>\n",
              "      <th>97</th>\n",
              "      <td>0.201075</td>\n",
              "      <td>-0.976949</td>\n",
              "    </tr>\n",
              "    <tr>\n",
              "      <th>98</th>\n",
              "      <td>8.289400</td>\n",
              "      <td>15.667736</td>\n",
              "    </tr>\n",
              "    <tr>\n",
              "      <th>99</th>\n",
              "      <td>0.046955</td>\n",
              "      <td>0.128868</td>\n",
              "    </tr>\n",
              "  </tbody>\n",
              "</table>\n",
              "<p>100 rows × 2 columns</p>\n",
              "</div>"
            ],
            "application/vnd.google.colaboratory.module+javascript": "\n      import \"https://ssl.gstatic.com/colaboratory/data_table/881c4a0d49046431/data_table.js\";\n\n      const table = window.createDataTable({\n        data: [[{\n            'v': 5.4881350392732475,\n            'f': \"5.4881350392732475\",\n        },\n{\n            'v': 8.645970396979783,\n            'f': \"8.645970396979783\",\n        }],\n [{\n            'v': 7.151893663724195,\n            'f': \"7.151893663724195\",\n        },\n{\n            'v': 16.105440301356765,\n            'f': \"16.105440301356765\",\n        }],\n [{\n            'v': 6.027633760716439,\n            'f': \"6.027633760716439\",\n        },\n{\n            'v': 12.986592400893798,\n            'f': \"12.986592400893798\",\n        }],\n [{\n            'v': 5.448831829968968,\n            'f': \"5.448831829968968\",\n        },\n{\n            'v': 7.825176287383489,\n            'f': \"7.825176287383489\",\n        }],\n [{\n            'v': 4.236547993389047,\n            'f': \"4.236547993389047\",\n        },\n{\n            'v': 11.449600374369293,\n            'f': \"11.449600374369293\",\n        }],\n [{\n            'v': 6.458941130666561,\n            'f': \"6.458941130666561\",\n        },\n{\n            'v': 16.709660613394288,\n            'f': \"16.709660613394288\",\n        }],\n [{\n            'v': 4.375872112626925,\n            'f': \"4.375872112626925\",\n        },\n{\n            'v': 11.109303367573151,\n            'f': \"11.109303367573151\",\n        }],\n [{\n            'v': 8.917730007820797,\n            'f': \"8.917730007820797\",\n        },\n{\n            'v': 17.475610344016893,\n            'f': \"17.475610344016893\",\n        }],\n [{\n            'v': 9.636627605010293,\n            'f': \"9.636627605010293\",\n        },\n{\n            'v': 17.1317499669995,\n            'f': \"17.1317499669995\",\n        }],\n [{\n            'v': 3.8344151882577773,\n            'f': \"3.8344151882577773\",\n        },\n{\n            'v': 9.777733830377828,\n            'f': \"9.777733830377828\",\n        }],\n [{\n            'v': 7.917250380826646,\n            'f': \"7.917250380826646\",\n        },\n{\n            'v': 15.028146867706933,\n            'f': \"15.028146867706933\",\n        }],\n [{\n            'v': 5.288949197529044,\n            'f': \"5.288949197529044\",\n        },\n{\n            'v': 13.022788535822944,\n            'f': \"13.022788535822944\",\n        }],\n [{\n            'v': 5.680445610939323,\n            'f': \"5.680445610939323\",\n        },\n{\n            'v': 11.777441178032367,\n            'f': \"11.777441178032367\",\n        }],\n [{\n            'v': 9.25596638292661,\n            'f': \"9.25596638292661\",\n        },\n{\n            'v': 20.465210838820646,\n            'f': \"20.465210838820646\",\n        }],\n [{\n            'v': 0.7103605819788694,\n            'f': \"0.7103605819788694\",\n        },\n{\n            'v': 2.133453958306543,\n            'f': \"2.133453958306543\",\n        }],\n [{\n            'v': 0.8712929970154071,\n            'f': \"0.8712929970154071\",\n        },\n{\n            'v': 3.1557323304147102,\n            'f': \"3.1557323304147102\",\n        }],\n [{\n            'v': 0.2021839744032572,\n            'f': \"0.2021839744032572\",\n        },\n{\n            'v': 0.42536799024815536,\n            'f': \"0.42536799024815536\",\n        }],\n [{\n            'v': 8.32619845547938,\n            'f': \"8.32619845547938\",\n        },\n{\n            'v': 20.22413789877043,\n            'f': \"20.22413789877043\",\n        }],\n [{\n            'v': 7.781567509498505,\n            'f': \"7.781567509498505\",\n        },\n{\n            'v': 15.816959204404249,\n            'f': \"15.816959204404249\",\n        }],\n [{\n            'v': 8.700121482468191,\n            'f': \"8.700121482468191\",\n        },\n{\n            'v': 18.204221691825786,\n            'f': \"18.204221691825786\",\n        }],\n [{\n            'v': 9.78618342232764,\n            'f': \"9.78618342232764\",\n        },\n{\n            'v': 23.33866823876779,\n            'f': \"23.33866823876779\",\n        }],\n [{\n            'v': 7.9915856421672355,\n            'f': \"7.9915856421672355\",\n        },\n{\n            'v': 13.287653162049578,\n            'f': \"13.287653162049578\",\n        }],\n [{\n            'v': 4.6147936225293185,\n            'f': \"4.6147936225293185\",\n        },\n{\n            'v': 6.688617248087169,\n            'f': \"6.688617248087169\",\n        }],\n [{\n            'v': 7.805291762864554,\n            'f': \"7.805291762864554\",\n        },\n{\n            'v': 17.549376942045132,\n            'f': \"17.549376942045132\",\n        }],\n [{\n            'v': 1.1827442586893322,\n            'f': \"1.1827442586893322\",\n        },\n{\n            'v': 0.019241707150344567,\n            'f': \"0.019241707150344567\",\n        }],\n [{\n            'v': 6.399210213275238,\n            'f': \"6.399210213275238\",\n        },\n{\n            'v': 16.685662797849062,\n            'f': \"16.685662797849062\",\n        }],\n [{\n            'v': 1.433532874090464,\n            'f': \"1.433532874090464\",\n        },\n{\n            'v': 2.0398277866614336,\n            'f': \"2.0398277866614336\",\n        }],\n [{\n            'v': 9.446689170495839,\n            'f': \"9.446689170495839\",\n        },\n{\n            'v': 17.398468718110163,\n            'f': \"17.398468718110163\",\n        }],\n [{\n            'v': 5.218483217500717,\n            'f': \"5.218483217500717\",\n        },\n{\n            'v': 14.282850487962204,\n            'f': \"14.282850487962204\",\n        }],\n [{\n            'v': 4.146619399905235,\n            'f': \"4.146619399905235\",\n        },\n{\n            'v': 11.254268382679319,\n            'f': \"11.254268382679319\",\n        }],\n [{\n            'v': 2.64555612104627,\n            'f': \"2.64555612104627\",\n        },\n{\n            'v': 9.02623016294568,\n            'f': \"9.02623016294568\",\n        }],\n [{\n            'v': 7.742336894342166,\n            'f': \"7.742336894342166\",\n        },\n{\n            'v': 17.296763105235105,\n            'f': \"17.296763105235105\",\n        }],\n [{\n            'v': 4.5615033221654855,\n            'f': \"4.5615033221654855\",\n        },\n{\n            'v': 7.400555274221566,\n            'f': \"7.400555274221566\",\n        }],\n [{\n            'v': 5.684339488686485,\n            'f': \"5.684339488686485\",\n        },\n{\n            'v': 15.188808883571037,\n            'f': \"15.188808883571037\",\n        }],\n [{\n            'v': 0.18789800436355142,\n            'f': \"0.18789800436355142\",\n        },\n{\n            'v': -0.16021073317565793,\n            'f': \"-0.16021073317565793\",\n        }],\n [{\n            'v': 6.176354970758771,\n            'f': \"6.176354970758771\",\n        },\n{\n            'v': 13.957622733110332,\n            'f': \"13.957622733110332\",\n        }],\n [{\n            'v': 6.120957227224214,\n            'f': \"6.120957227224214\",\n        },\n{\n            'v': 14.136418389995924,\n            'f': \"14.136418389995924\",\n        }],\n [{\n            'v': 6.169339968747569,\n            'f': \"6.169339968747569\",\n        },\n{\n            'v': 12.02865975131347,\n            'f': \"12.02865975131347\",\n        }],\n [{\n            'v': 9.437480785146242,\n            'f': \"9.437480785146242\",\n        },\n{\n            'v': 20.103120310984643,\n            'f': \"20.103120310984643\",\n        }],\n [{\n            'v': 6.818202991034834,\n            'f': \"6.818202991034834\",\n        },\n{\n            'v': 15.480819325202722,\n            'f': \"15.480819325202722\",\n        }],\n [{\n            'v': 3.59507900573786,\n            'f': \"3.59507900573786\",\n        },\n{\n            'v': 7.943009073786979,\n            'f': \"7.943009073786979\",\n        }],\n [{\n            'v': 4.3703195379934145,\n            'f': \"4.3703195379934145\",\n        },\n{\n            'v': 6.54183749481844,\n            'f': \"6.54183749481844\",\n        }],\n [{\n            'v': 6.976311959272649,\n            'f': \"6.976311959272649\",\n        },\n{\n            'v': 14.54910026695741,\n            'f': \"14.54910026695741\",\n        }],\n [{\n            'v': 0.6022547162926983,\n            'f': \"0.6022547162926983\",\n        },\n{\n            'v': 3.8572812259594573,\n            'f': \"3.8572812259594573\",\n        }],\n [{\n            'v': 6.667667154456677,\n            'f': \"6.667667154456677\",\n        },\n{\n            'v': 11.946198589450622,\n            'f': \"11.946198589450622\",\n        }],\n [{\n            'v': 6.706378696181594,\n            'f': \"6.706378696181594\",\n        },\n{\n            'v': 13.113488311707847,\n            'f': \"13.113488311707847\",\n        }],\n [{\n            'v': 2.103825610738409,\n            'f': \"2.103825610738409\",\n        },\n{\n            'v': 3.337344118033543,\n            'f': \"3.337344118033543\",\n        }],\n [{\n            'v': 1.289262976548533,\n            'f': \"1.289262976548533\",\n        },\n{\n            'v': 6.27705341005575,\n            'f': \"6.27705341005575\",\n        }],\n [{\n            'v': 3.1542835092418384,\n            'f': \"3.1542835092418384\",\n        },\n{\n            'v': 7.6531565325085475,\n            'f': \"7.6531565325085475\",\n        }],\n [{\n            'v': 3.637107709426226,\n            'f': \"3.637107709426226\",\n        },\n{\n            'v': 8.089139091334673,\n            'f': \"8.089139091334673\",\n        }],\n [{\n            'v': 5.701967704178797,\n            'f': \"5.701967704178797\",\n        },\n{\n            'v': 9.864103259466962,\n            'f': \"9.864103259466962\",\n        }],\n [{\n            'v': 4.386015134623204,\n            'f': \"4.386015134623204\",\n        },\n{\n            'v': 9.850528651830041,\n            'f': \"9.850528651830041\",\n        }],\n [{\n            'v': 9.883738380592263,\n            'f': \"9.883738380592263\",\n        },\n{\n            'v': 18.418811439869774,\n            'f': \"18.418811439869774\",\n        }],\n [{\n            'v': 1.0204481074802807,\n            'f': \"1.0204481074802807\",\n        },\n{\n            'v': 2.104557331509264,\n            'f': \"2.104557331509264\",\n        }],\n [{\n            'v': 2.088767560948347,\n            'f': \"2.088767560948347\",\n        },\n{\n            'v': 2.905842965138932,\n            'f': \"2.905842965138932\",\n        }],\n [{\n            'v': 1.6130951788499626,\n            'f': \"1.6130951788499626\",\n        },\n{\n            'v': 4.579056947592925,\n            'f': \"4.579056947592925\",\n        }],\n [{\n            'v': 6.531083254653984,\n            'f': \"6.531083254653984\",\n        },\n{\n            'v': 14.215348142537849,\n            'f': \"14.215348142537849\",\n        }],\n [{\n            'v': 2.532916025397821,\n            'f': \"2.532916025397821\",\n        },\n{\n            'v': 4.649234539639652,\n            'f': \"4.649234539639652\",\n        }],\n [{\n            'v': 4.663107728563062,\n            'f': \"4.663107728563062\",\n        },\n{\n            'v': 10.118228882449415,\n            'f': \"10.118228882449415\",\n        }],\n [{\n            'v': 2.4442559200160274,\n            'f': \"2.4442559200160274\",\n        },\n{\n            'v': 2.7023888225710433,\n            'f': \"2.7023888225710433\",\n        }],\n [{\n            'v': 1.5896958364551972,\n            'f': \"1.5896958364551972\",\n        },\n{\n            'v': 0.1968764874991833,\n            'f': \"0.1968764874991833\",\n        }],\n [{\n            'v': 1.1037514116430513,\n            'f': \"1.1037514116430513\",\n        },\n{\n            'v': 3.0862862258151766,\n            'f': \"3.0862862258151766\",\n        }],\n [{\n            'v': 6.563295894652734,\n            'f': \"6.563295894652734\",\n        },\n{\n            'v': 13.459938780050527,\n            'f': \"13.459938780050527\",\n        }],\n [{\n            'v': 1.381829513486138,\n            'f': \"1.381829513486138\",\n        },\n{\n            'v': 4.033721900756489,\n            'f': \"4.033721900756489\",\n        }],\n [{\n            'v': 1.965823616800535,\n            'f': \"1.965823616800535\",\n        },\n{\n            'v': 8.697936783328954,\n            'f': \"8.697936783328954\",\n        }],\n [{\n            'v': 3.687251706609641,\n            'f': \"3.687251706609641\",\n        },\n{\n            'v': 9.263462387200109,\n            'f': \"9.263462387200109\",\n        }],\n [{\n            'v': 8.209932298479352,\n            'f': \"8.209932298479352\",\n        },\n{\n            'v': 14.594220146070386,\n            'f': \"14.594220146070386\",\n        }],\n [{\n            'v': 0.9710127579306127,\n            'f': \"0.9710127579306127\",\n        },\n{\n            'v': 4.176058092052932,\n            'f': \"4.176058092052932\",\n        }],\n [{\n            'v': 8.379449074988038,\n            'f': \"8.379449074988038\",\n        },\n{\n            'v': 14.127083328953034,\n            'f': \"14.127083328953034\",\n        }],\n [{\n            'v': 0.9609840789396307,\n            'f': \"0.9609840789396307\",\n        },\n{\n            'v': 0.9987989482498434,\n            'f': \"0.9987989482498434\",\n        }],\n [{\n            'v': 9.764594650133958,\n            'f': \"9.764594650133958\",\n        },\n{\n            'v': 19.392706089618652,\n            'f': \"19.392706089618652\",\n        }],\n [{\n            'v': 4.686512016477016,\n            'f': \"4.686512016477016\",\n        },\n{\n            'v': 12.799709476252765,\n            'f': \"12.799709476252765\",\n        }],\n [{\n            'v': 9.767610881903371,\n            'f': \"9.767610881903371\",\n        },\n{\n            'v': 18.04571211970986,\n            'f': \"18.04571211970986\",\n        }],\n [{\n            'v': 6.04845519745046,\n            'f': \"6.04845519745046\",\n        },\n{\n            'v': 10.44403331758289,\n            'f': \"10.44403331758289\",\n        }],\n [{\n            'v': 7.3926357939830165,\n            'f': \"7.3926357939830165\",\n        },\n{\n            'v': 14.58836653911517,\n            'f': \"14.58836653911517\",\n        }],\n [{\n            'v': 0.39187792254320675,\n            'f': \"0.39187792254320675\",\n        },\n{\n            'v': -0.5432007276378013,\n            'f': \"-0.5432007276378013\",\n        }],\n [{\n            'v': 2.828069625764096,\n            'f': \"2.828069625764096\",\n        },\n{\n            'v': 7.909411095741206,\n            'f': \"7.909411095741206\",\n        }],\n [{\n            'v': 1.201965612131689,\n            'f': \"1.201965612131689\",\n        },\n{\n            'v': 0.24406820753653147,\n            'f': \"0.24406820753653147\",\n        }],\n [{\n            'v': 2.9614019752214493,\n            'f': \"2.9614019752214493\",\n        },\n{\n            'v': 3.627866645620694,\n            'f': \"3.627866645620694\",\n        }],\n [{\n            'v': 1.1872771895424405,\n            'f': \"1.1872771895424405\",\n        },\n{\n            'v': 1.498914289596013,\n            'f': \"1.498914289596013\",\n        }],\n [{\n            'v': 3.1798317939397602,\n            'f': \"3.1798317939397602\",\n        },\n{\n            'v': 5.36359868649491,\n            'f': \"5.36359868649491\",\n        }],\n [{\n            'v': 4.1426299451467,\n            'f': \"4.1426299451467\",\n        },\n{\n            'v': 12.144323997927371,\n            'f': \"12.144323997927371\",\n        }],\n [{\n            'v': 0.6414749634878436,\n            'f': \"0.6414749634878436\",\n        },\n{\n            'v': 3.181791540827209,\n            'f': \"3.181791540827209\",\n        }],\n [{\n            'v': 6.924721193700199,\n            'f': \"6.924721193700199\",\n        },\n{\n            'v': 14.02454487017078,\n            'f': \"14.02454487017078\",\n        }],\n [{\n            'v': 5.666014542065751,\n            'f': \"5.666014542065751\",\n        },\n{\n            'v': 8.881158046471166,\n            'f': \"8.881158046471166\",\n        }],\n [{\n            'v': 2.653894909394454,\n            'f': \"2.653894909394454\",\n        },\n{\n            'v': 6.996515771592002,\n            'f': \"6.996515771592002\",\n        }],\n [{\n            'v': 5.232480534666997,\n            'f': \"5.232480534666997\",\n        },\n{\n            'v': 8.464530374554863,\n            'f': \"8.464530374554863\",\n        }],\n [{\n            'v': 0.9394051075844168,\n            'f': \"0.9394051075844168\",\n        },\n{\n            'v': -1.2107319783863897,\n            'f': \"-1.2107319783863897\",\n        }],\n [{\n            'v': 5.759464955561793,\n            'f': \"5.759464955561793\",\n        },\n{\n            'v': 13.894989495828188,\n            'f': \"13.894989495828188\",\n        }],\n [{\n            'v': 9.292961975762141,\n            'f': \"9.292961975762141\",\n        },\n{\n            'v': 19.21980917537398,\n            'f': \"19.21980917537398\",\n        }],\n [{\n            'v': 3.1856895245132364,\n            'f': \"3.1856895245132364\",\n        },\n{\n            'v': 8.21309669658811,\n            'f': \"8.21309669658811\",\n        }],\n [{\n            'v': 6.674103799636817,\n            'f': \"6.674103799636817\",\n        },\n{\n            'v': 13.985662905159677,\n            'f': \"13.985662905159677\",\n        }],\n [{\n            'v': 1.3179786240439217,\n            'f': \"1.3179786240439217\",\n        },\n{\n            'v': 4.349618471893226,\n            'f': \"4.349618471893226\",\n        }],\n [{\n            'v': 7.163272041185655,\n            'f': \"7.163272041185655\",\n        },\n{\n            'v': 13.024492895771017,\n            'f': \"13.024492895771017\",\n        }],\n [{\n            'v': 2.894060929472011,\n            'f': \"2.894060929472011\",\n        },\n{\n            'v': 3.7196361753750926,\n            'f': \"3.7196361753750926\",\n        }],\n [{\n            'v': 1.8319136200711683,\n            'f': \"1.8319136200711683\",\n        },\n{\n            'v': 5.027016276705591,\n            'f': \"5.027016276705591\",\n        }],\n [{\n            'v': 5.865129348100831,\n            'f': \"5.865129348100831\",\n        },\n{\n            'v': 10.12343936785398,\n            'f': \"10.12343936785398\",\n        }],\n [{\n            'v': 0.20107546187493552,\n            'f': \"0.20107546187493552\",\n        },\n{\n            'v': -0.97694863175053,\n            'f': \"-0.97694863175053\",\n        }],\n [{\n            'v': 8.289400292173632,\n            'f': \"8.289400292173632\",\n        },\n{\n            'v': 15.667735577312577,\n            'f': \"15.667735577312577\",\n        }],\n [{\n            'v': 0.046954761925470656,\n            'f': \"0.046954761925470656\",\n        },\n{\n            'v': 0.12886784190105477,\n            'f': \"0.12886784190105477\",\n        }]],\n        columns: [[\"number\", \"Horas de estudio\"], [\"number\", \"Calificaciones\"]],\n        columnOptions: [],\n        rowsPerPage: 20,\n        helpUrl: \"https://colab.research.google.com/notebooks/data_table.ipynb\",\n        suppressOutputScrolling: true,\n        minimumWidth: undefined,\n      });\n\n      function appendQuickchartButton(parentElement) {\n        let quickchartButtonContainerElement = document.createElement('div');\n        quickchartButtonContainerElement.innerHTML = `\n<div id=\"df-99aee7a4-3228-424a-b149-37c8b5a9970e\">\n  <button class=\"colab-df-quickchart\" onclick=\"quickchart('df-99aee7a4-3228-424a-b149-37c8b5a9970e')\"\n            title=\"Suggest charts\"\n            style=\"display:none;\">\n    \n<svg xmlns=\"http://www.w3.org/2000/svg\" height=\"24px\"viewBox=\"0 0 24 24\"\n     width=\"24px\">\n    <g>\n        <path d=\"M19 3H5c-1.1 0-2 .9-2 2v14c0 1.1.9 2 2 2h14c1.1 0 2-.9 2-2V5c0-1.1-.9-2-2-2zM9 17H7v-7h2v7zm4 0h-2V7h2v10zm4 0h-2v-4h2v4z\"/>\n    </g>\n</svg>\n  </button>\n  \n<style>\n  .colab-df-quickchart {\n      --bg-color: #E8F0FE;\n      --fill-color: #1967D2;\n      --hover-bg-color: #E2EBFA;\n      --hover-fill-color: #174EA6;\n      --disabled-fill-color: #AAA;\n      --disabled-bg-color: #DDD;\n  }\n\n  [theme=dark] .colab-df-quickchart {\n      --bg-color: #3B4455;\n      --fill-color: #D2E3FC;\n      --hover-bg-color: #434B5C;\n      --hover-fill-color: #FFFFFF;\n      --disabled-bg-color: #3B4455;\n      --disabled-fill-color: #666;\n  }\n\n  .colab-df-quickchart {\n    background-color: var(--bg-color);\n    border: none;\n    border-radius: 50%;\n    cursor: pointer;\n    display: none;\n    fill: var(--fill-color);\n    height: 32px;\n    padding: 0;\n    width: 32px;\n  }\n\n  .colab-df-quickchart:hover {\n    background-color: var(--hover-bg-color);\n    box-shadow: 0 1px 2px rgba(60, 64, 67, 0.3), 0 1px 3px 1px rgba(60, 64, 67, 0.15);\n    fill: var(--button-hover-fill-color);\n  }\n\n  .colab-df-quickchart-complete:disabled,\n  .colab-df-quickchart-complete:disabled:hover {\n    background-color: var(--disabled-bg-color);\n    fill: var(--disabled-fill-color);\n    box-shadow: none;\n  }\n\n  .colab-df-spinner {\n    border: 2px solid var(--fill-color);\n    border-color: transparent;\n    border-bottom-color: var(--fill-color);\n    animation:\n      spin 1s steps(1) infinite;\n  }\n\n  @keyframes spin {\n    0% {\n      border-color: transparent;\n      border-bottom-color: var(--fill-color);\n      border-left-color: var(--fill-color);\n    }\n    20% {\n      border-color: transparent;\n      border-left-color: var(--fill-color);\n      border-top-color: var(--fill-color);\n    }\n    30% {\n      border-color: transparent;\n      border-left-color: var(--fill-color);\n      border-top-color: var(--fill-color);\n      border-right-color: var(--fill-color);\n    }\n    40% {\n      border-color: transparent;\n      border-right-color: var(--fill-color);\n      border-top-color: var(--fill-color);\n    }\n    60% {\n      border-color: transparent;\n      border-right-color: var(--fill-color);\n    }\n    80% {\n      border-color: transparent;\n      border-right-color: var(--fill-color);\n      border-bottom-color: var(--fill-color);\n    }\n    90% {\n      border-color: transparent;\n      border-bottom-color: var(--fill-color);\n    }\n  }\n</style>\n\n  <script>\n    async function quickchart(key) {\n      const quickchartButtonEl =\n        document.querySelector('#' + key + ' button');\n      quickchartButtonEl.disabled = true;  // To prevent multiple clicks.\n      quickchartButtonEl.classList.add('colab-df-spinner');\n      try {\n        const charts = await google.colab.kernel.invokeFunction(\n            'suggestCharts', [key], {});\n      } catch (error) {\n        console.error('Error during call to suggestCharts:', error);\n      }\n      quickchartButtonEl.classList.remove('colab-df-spinner');\n      quickchartButtonEl.classList.add('colab-df-quickchart-complete');\n    }\n    (() => {\n      let quickchartButtonEl =\n        document.querySelector('#df-99aee7a4-3228-424a-b149-37c8b5a9970e button');\n      quickchartButtonEl.style.display =\n        google.colab.kernel.accessAllowed ? 'block' : 'none';\n    })();\n  </script>\n</div>`;\n        parentElement.appendChild(quickchartButtonContainerElement);\n      }\n\n      appendQuickchartButton(table);\n    ",
            "text/plain": [
              "<google.colab.data_table.DataTable object>"
            ]
          },
          "metadata": {},
          "execution_count": 141
        }
      ]
    },
    {
      "cell_type": "markdown",
      "source": [
        "4. Selección y Entrenamiento de Modelo"
      ],
      "metadata": {
        "id": "ikUkmpqqZCho"
      }
    },
    {
      "cell_type": "code",
      "source": [
        "modelo = sklearn.linear_model.LinearRegression()\n",
        "\n",
        "modelo.fit(train_data, train_labels)"
      ],
      "metadata": {
        "colab": {
          "base_uri": "https://localhost:8080/",
          "height": 75
        },
        "id": "O6K6CS8AZHzn",
        "outputId": "60708e2f-9482-4b69-a42e-587456b21cc9"
      },
      "execution_count": null,
      "outputs": [
        {
          "output_type": "execute_result",
          "data": {
            "text/plain": [
              "LinearRegression()"
            ],
            "text/html": [
              "<style>#sk-container-id-4 {color: black;background-color: white;}#sk-container-id-4 pre{padding: 0;}#sk-container-id-4 div.sk-toggleable {background-color: white;}#sk-container-id-4 label.sk-toggleable__label {cursor: pointer;display: block;width: 100%;margin-bottom: 0;padding: 0.3em;box-sizing: border-box;text-align: center;}#sk-container-id-4 label.sk-toggleable__label-arrow:before {content: \"▸\";float: left;margin-right: 0.25em;color: #696969;}#sk-container-id-4 label.sk-toggleable__label-arrow:hover:before {color: black;}#sk-container-id-4 div.sk-estimator:hover label.sk-toggleable__label-arrow:before {color: black;}#sk-container-id-4 div.sk-toggleable__content {max-height: 0;max-width: 0;overflow: hidden;text-align: left;background-color: #f0f8ff;}#sk-container-id-4 div.sk-toggleable__content pre {margin: 0.2em;color: black;border-radius: 0.25em;background-color: #f0f8ff;}#sk-container-id-4 input.sk-toggleable__control:checked~div.sk-toggleable__content {max-height: 200px;max-width: 100%;overflow: auto;}#sk-container-id-4 input.sk-toggleable__control:checked~label.sk-toggleable__label-arrow:before {content: \"▾\";}#sk-container-id-4 div.sk-estimator input.sk-toggleable__control:checked~label.sk-toggleable__label {background-color: #d4ebff;}#sk-container-id-4 div.sk-label input.sk-toggleable__control:checked~label.sk-toggleable__label {background-color: #d4ebff;}#sk-container-id-4 input.sk-hidden--visually {border: 0;clip: rect(1px 1px 1px 1px);clip: rect(1px, 1px, 1px, 1px);height: 1px;margin: -1px;overflow: hidden;padding: 0;position: absolute;width: 1px;}#sk-container-id-4 div.sk-estimator {font-family: monospace;background-color: #f0f8ff;border: 1px dotted black;border-radius: 0.25em;box-sizing: border-box;margin-bottom: 0.5em;}#sk-container-id-4 div.sk-estimator:hover {background-color: #d4ebff;}#sk-container-id-4 div.sk-parallel-item::after {content: \"\";width: 100%;border-bottom: 1px solid gray;flex-grow: 1;}#sk-container-id-4 div.sk-label:hover label.sk-toggleable__label {background-color: #d4ebff;}#sk-container-id-4 div.sk-serial::before {content: \"\";position: absolute;border-left: 1px solid gray;box-sizing: border-box;top: 0;bottom: 0;left: 50%;z-index: 0;}#sk-container-id-4 div.sk-serial {display: flex;flex-direction: column;align-items: center;background-color: white;padding-right: 0.2em;padding-left: 0.2em;position: relative;}#sk-container-id-4 div.sk-item {position: relative;z-index: 1;}#sk-container-id-4 div.sk-parallel {display: flex;align-items: stretch;justify-content: center;background-color: white;position: relative;}#sk-container-id-4 div.sk-item::before, #sk-container-id-4 div.sk-parallel-item::before {content: \"\";position: absolute;border-left: 1px solid gray;box-sizing: border-box;top: 0;bottom: 0;left: 50%;z-index: -1;}#sk-container-id-4 div.sk-parallel-item {display: flex;flex-direction: column;z-index: 1;position: relative;background-color: white;}#sk-container-id-4 div.sk-parallel-item:first-child::after {align-self: flex-end;width: 50%;}#sk-container-id-4 div.sk-parallel-item:last-child::after {align-self: flex-start;width: 50%;}#sk-container-id-4 div.sk-parallel-item:only-child::after {width: 0;}#sk-container-id-4 div.sk-dashed-wrapped {border: 1px dashed gray;margin: 0 0.4em 0.5em 0.4em;box-sizing: border-box;padding-bottom: 0.4em;background-color: white;}#sk-container-id-4 div.sk-label label {font-family: monospace;font-weight: bold;display: inline-block;line-height: 1.2em;}#sk-container-id-4 div.sk-label-container {text-align: center;}#sk-container-id-4 div.sk-container {/* jupyter's `normalize.less` sets `[hidden] { display: none; }` but bootstrap.min.css set `[hidden] { display: none !important; }` so we also need the `!important` here to be able to override the default hidden behavior on the sphinx rendered scikit-learn.org. See: https://github.com/scikit-learn/scikit-learn/issues/21755 */display: inline-block !important;position: relative;}#sk-container-id-4 div.sk-text-repr-fallback {display: none;}</style><div id=\"sk-container-id-4\" class=\"sk-top-container\"><div class=\"sk-text-repr-fallback\"><pre>LinearRegression()</pre><b>In a Jupyter environment, please rerun this cell to show the HTML representation or trust the notebook. <br />On GitHub, the HTML representation is unable to render, please try loading this page with nbviewer.org.</b></div><div class=\"sk-container\" hidden><div class=\"sk-item\"><div class=\"sk-estimator sk-toggleable\"><input class=\"sk-toggleable__control sk-hidden--visually\" id=\"sk-estimator-id-4\" type=\"checkbox\" checked><label for=\"sk-estimator-id-4\" class=\"sk-toggleable__label sk-toggleable__label-arrow\">LinearRegression</label><div class=\"sk-toggleable__content\"><pre>LinearRegression()</pre></div></div></div></div></div>"
            ]
          },
          "metadata": {},
          "execution_count": 142
        }
      ]
    },
    {
      "cell_type": "markdown",
      "source": [
        "5. Prueba de Modelo."
      ],
      "metadata": {
        "id": "EDM0heIScJcP"
      }
    },
    {
      "cell_type": "code",
      "source": [
        "Predicciones = modelo.predict(test_data)\n",
        "\n",
        "display(Predicciones)"
      ],
      "metadata": {
        "colab": {
          "base_uri": "https://localhost:8080/",
          "height": 364
        },
        "id": "9FhiLcTRaY6X",
        "outputId": "a1554f2a-27dc-4528-9d94-d4b7f003f0ab"
      },
      "execution_count": 146,
      "outputs": [
        {
          "output_type": "display_data",
          "data": {
            "text/plain": [
              "array([[ 2.50491467],\n",
              "       [ 0.91111103],\n",
              "       [ 2.89475436],\n",
              "       [ 1.87175246],\n",
              "       [19.03649204],\n",
              "       [10.72375525],\n",
              "       [ 7.32961524],\n",
              "       [13.56396945],\n",
              "       [13.78804053],\n",
              "       [13.27726327],\n",
              "       [10.61060458],\n",
              "       [ 8.61497676],\n",
              "       [ 2.70927155],\n",
              "       [19.0549436 ],\n",
              "       [ 8.42678583],\n",
              "       [16.80972883],\n",
              "       [ 1.41124811],\n",
              "       [11.51602966],\n",
              "       [ 7.80919184],\n",
              "       [ 2.76681134]])"
            ]
          },
          "metadata": {}
        }
      ]
    },
    {
      "cell_type": "code",
      "source": [
        "#Gráfica del modelo\n",
        "\n",
        "plt.scatter(train_data, train_labels, color = 'darkcyan')\n",
        "plt.xlabel(\"Horas de estudio\")\n",
        "plt.ylabel(\"Calificaciones\")\n",
        "plt.title(\"Modelo de Regresión Lineal\")\n",
        "plt.plot(test_data, Predicciones, color = 'orange')\n",
        "\n",
        "plt.show()"
      ],
      "metadata": {
        "colab": {
          "base_uri": "https://localhost:8080/",
          "height": 472
        },
        "id": "sjKCOb-HcsGg",
        "outputId": "636f280e-808d-4e58-806b-ad4656c72d16"
      },
      "execution_count": 147,
      "outputs": [
        {
          "output_type": "display_data",
          "data": {
            "text/plain": [
              "<Figure size 640x480 with 1 Axes>"
            ],
            "image/png": "[encoded data removed]"
          },
          "metadata": {}
        }
      ]
    },
    {
      "cell_type": "code",
      "source": [
        "# Cálculo de error cuadrático\n",
        "\n",
        "print('Error cuadrático medio: ', mean_squared_error(test_label, Predicciones))"
      ],
      "metadata": {
        "colab": {
          "base_uri": "https://localhost:8080/"
        },
        "id": "AhhR5XnseRLP",
        "outputId": "36b98339-316c-48ca-8817-c70e5ffe0649"
      },
      "execution_count": 148,
      "outputs": [
        {
          "output_type": "stream",
          "name": "stdout",
          "text": [
            "Error cuadrático medio:  4.628538245396515\n"
          ]
        }
      ]
    }
  ]
}
